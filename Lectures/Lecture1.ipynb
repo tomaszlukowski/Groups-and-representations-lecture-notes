{
 "cells": [
  {
   "cell_type": "code",
   "execution_count": 42,
   "metadata": {
    "tags": [
     "hide-input"
    ]
   },
   "outputs": [
    {
     "data": {
      "text/html": [
       " <style>\n",
       ".output_png {\n",
       "    display: table-cell;\n",
       "    text-align: center;\n",
       "    vertical-align: middle;\n",
       "}\n",
       "</style> "
      ],
      "text/plain": [
       "<IPython.core.display.HTML object>"
      ]
     },
     "execution_count": 42,
     "metadata": {},
     "output_type": "execute_result"
    }
   ],
   "source": [
    "from IPython.core.display import HTML as Center\n",
    "\n",
    "Center(\"\"\" <style>\n",
    ".output_png {\n",
    "    display: table-cell;\n",
    "    text-align: center;\n",
    "    vertical-align: middle;\n",
    "}\n",
    "</style> \"\"\")"
   ]
  },
  {
   "cell_type": "markdown",
   "metadata": {},
   "source": [
    "# Linear algebra - crash course\n",
    "\n",
    "We will start by recalling from linear algebra the definition of a vector space and a linear map. These notion will be crucial in the definition and interpretation of group representations that we will introduce in the following lectures.\n",
    "\n",
    "## Vector spaces\n",
    "\n",
    "```{admonition} Definition (Vector space)\n",
    ":class: definition\n",
    "\n",
    "A vector space over a field $\\mathbb{F}$ ($\\mathbb{R}$ or $\\mathbb{C}$), is a set $V$ together with two operations: vector addition and multiplication by scalar, that satisfy the following axioms:\n",
    "- addition is commutative, associative, has an identity element and inverses (therefore $V$ is an abelian group with +)\n",
    "- $\\lambda(\\mu v)=(\\lambda\\mu)v$ for all $\\lambda,\\mu\\in\\mathbb{F}$ and $v\\in  V$\n",
    "- $\\lambda(v+u)=\\lambda v+\\lambda u$ for all $\\lambda\\in\\mathbb{F}$ and $v,u\\in  V$\n",
    "- $(\\lambda+\\mu) v)=\\lambda v+\\mu v$ for all $\\lambda,\\mu\\in\\mathbb{F}$ and $v\\in  V$\n",
    "```\n",
    "\n",
    "```{admonition} Examples (Vector space)\n",
    ":class: example\n",
    "\n",
    "- $\\mathbb{F}=\\mathbb{R}$, $V=\\mathbb{R}^n$ is a vector space over real numbers\n",
    "- $\\mathbb{F}=\\mathbb{C}$, $V=\\mathbb{C}^n$ is a vector space over complex numbers\n",
    "- the set $M_{n\\times m}(\\mathbb{R})$ of all $n\\times m$ matrices is a vector space\n",
    "\n",
    "```\n",
    "\n",
    "We will be dealing mostly with finite dimensional vector spaces in these lectures. In such case, we can introduce the definition of a basis of a vector space. \n",
    "\n",
    "```{admonition} Definition (Linearly independent vectors)\n",
    ":class: definition\n",
    "\n",
    "Let $V$ be an $n$-dimensional vector space and let $v_1,v_2,\\ldots,v_k\\in V$ be vectors. Then we say that these vectors are linearly independent if the vector equation\n",
    "\n",
    "$$\n",
    "\\alpha_1 v_1+\\alpha_2 v_2+\\ldots \\alpha_k v_k=0\n",
    "$$\n",
    "\n",
    "has only the trivial solution $\\alpha_1=\\alpha_2=\\ldots=\\alpha_k$.\n",
    "```\n",
    "\n",
    "```{admonition} Example (Linearly independent vectors)\n",
    ":class: example\n",
    "\n",
    "Let us take $V=\\mathbb{R}^2$ and take three vectors $v_1=\\begin{pmatrix}2\\\\3\\end{pmatrix}$, $v_2=\\begin{pmatrix}-1\\\\1\\end{pmatrix}$ and $v_3=\\begin{pmatrix}2\\\\-2\\end{pmatrix}$. One can show that vectors $v_1$ and $v_2$ are linearly independent since\n",
    "\n",
    "$$\n",
    "\\alpha_1 v_1+\\alpha_2 v_2=\\alpha_1 \\begin{pmatrix}2\\\\3\\end{pmatrix}+\\alpha_2 \\begin{pmatrix}-1\\\\1\\end{pmatrix}=\\begin{pmatrix}2 \\alpha_1-\\alpha_2\\\\3\\alpha_1+\\alpha_2\\end{pmatrix}\n",
    "$$\n",
    "\n",
    "and to have $\\alpha_1 v_1+\\alpha_2 v_2=0$ we need to solve two equations:\n",
    "\n",
    "$$\n",
    "2 \\alpha_1-\\alpha_2=0\\qquad 3\\alpha_1+\\alpha_2=0\n",
    "$$\n",
    "\n",
    "The only solution is $\\alpha_1=\\alpha_2=0$.\n",
    "\n",
    "On the other hand, vectors $v_2$ and $v_3$ are not linearly independent (they are linearly dependent), since for example $v_2+v_3=0$.\n",
    "```\n",
    "\n",
    "Finally, we can define a basis of a vector space as\n",
    "\n",
    "```{admonition} Definition (Basis of vector space)\n",
    ":class: definition\n",
    "\n",
    "Let $V$ be an $n$-dimensional vector space. Any of set of $n$ linearly independent vectors $v_1,v_2,\\ldots , v_n$ in $V$ is called the basis of $V$.\n",
    "```\n",
    "\n",
    "Importantly, given a basis $v_1,v_2,\\ldots,v_n$ of a vector space $V$, it is possible to expand any other vector in $V$ as a linear combination of the basis vectors. Such linear combination is unique.\n",
    "\n",
    "```{admonition} Example (Basis of vector space)\n",
    ":class: example\n",
    "\n",
    "Let us take $V=\\mathbb{R}^2$. We showed that vectors $v_1=\\begin{pmatrix}2\\\\3\\end{pmatrix}$ and $v_2=\\begin{pmatrix}-1\\\\1\\end{pmatrix}$ are linearly independent. Therefore, $v_1$ and $v_2$ form a basis of $\\mathbb{R}^2$. Any other vector in $\\mathbb{R}^2$ can be written as a linear combination of this two vectors. For example, let us take $v=\\begin{pmatrix}5\\\\7\\end{pmatrix}$. Then\n",
    "\n",
    "$$\n",
    "v=\\frac{12}{5}v_1-\\frac{1}{5}v_2\n",
    "$$\n",
    "\n",
    "```\n",
    "\n",
    "```{admonition} Definition (Linear map)\n",
    ":class: definition\n",
    "\n",
    "Let $U$ and $V$ be vector spaces over $\\mathbb{F}$. Then $f:U\\to V$ is called a linear map if\n",
    "- $f(u+v)=f(u)+f(v)$ for all $u,v\\in U$\n",
    "- $f(\\lambda u)=\\lambda f(u)$ for all $\\lambda\\in \\mathbb{F}$ and $u\\in U$\n",
    "\n",
    "```\n",
    "\n",
    "```{admonition} Examples (Linear map)\n",
    ":class: example\n",
    "\n",
    "- The identity map $id_U:U\\to U$ is a linear map\n",
    "- For an $n\\times m$ real matrix $A$, we can define a map: $T_A:\\mathbb{R}^n\\to\\mathbb{R}^m$ as $T_A(v)=A\\cdot v$. Then $T_A$ is a linear map.\n",
    "\n",
    "```"
   ]
  },
  {
   "cell_type": "code",
   "execution_count": null,
   "metadata": {},
   "outputs": [],
   "source": []
  }
 ],
 "metadata": {
  "celltoolbar": "Edit Metadata",
  "kernelspec": {
   "display_name": "Python 3 (ipykernel)",
   "language": "python",
   "name": "python3"
  },
  "language_info": {
   "codemirror_mode": {
    "name": "ipython",
    "version": 3
   },
   "file_extension": ".py",
   "mimetype": "text/x-python",
   "name": "python",
   "nbconvert_exporter": "python",
   "pygments_lexer": "ipython3",
   "version": "3.9.7"
  },
  "widgets": {
   "application/vnd.jupyter.widget-state+json": {
    "state": {},
    "version_major": 2,
    "version_minor": 0
   }
  }
 },
 "nbformat": 4,
 "nbformat_minor": 4
}
