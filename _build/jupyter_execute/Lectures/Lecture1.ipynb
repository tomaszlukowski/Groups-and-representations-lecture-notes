{
 "cells": [
  {
   "cell_type": "code",
   "execution_count": 1,
   "metadata": {
    "tags": [
     "hide-input"
    ]
   },
   "outputs": [
    {
     "data": {
      "text/html": [
       " <style>\n",
       ".output_png {\n",
       "    display: table-cell;\n",
       "    text-align: center;\n",
       "    vertical-align: middle;\n",
       "}\n",
       "</style> "
      ],
      "text/plain": [
       "<IPython.core.display.HTML object>"
      ]
     },
     "execution_count": 1,
     "metadata": {},
     "output_type": "execute_result"
    }
   ],
   "source": [
    "from IPython.core.display import HTML as Center\n",
    "\n",
    "Center(\"\"\" <style>\n",
    ".output_png {\n",
    "    display: table-cell;\n",
    "    text-align: center;\n",
    "    vertical-align: middle;\n",
    "}\n",
    "</style> \"\"\")"
   ]
  },
  {
   "cell_type": "markdown",
   "metadata": {},
   "source": [
    "# Linear algebra - crash course\n",
    "\n",
    "We will start by recalling from linear algebra the definition of a vector space and a linear map. These notion will be crucial in the definition and interpretation of group representations that we will introduce in the following lectures.\n",
    "\n",
    "## Vector spaces\n",
    "\n",
    "```{admonition} Definition (Vector space)\n",
    ":class: definition\n",
    "\n",
    "A *vector space* over a field $\\mathbb{F}$ ($\\mathbb{R}$ or $\\mathbb{C}$), is a set $V$ together with two operations: vector addition and multiplication by scalar, that satisfy the following axioms:\n",
    "- vector addition is commutative: $v+u=u+v$ for all $u,v\\in V$\n",
    "- vector addition is associative: $(v+u)+w=v+(u+w)$ for all $v,u,w\\in V$\n",
    "- vector addition has an identity element (zero vector 0) satisfying $v+0=0+v=v$ for all $v\\in V$\n",
    "- vector addition has inverses: for all $v\\in V$ there exists $u\\in V$ such that $v+u=u+v=0$ \n",
    "- $\\lambda(\\mu v)=(\\lambda\\mu)v$ for all $\\lambda,\\mu\\in\\mathbb{F}$ and $v\\in  V$\n",
    "- $\\lambda(v+u)=\\lambda v+\\lambda u$ for all $\\lambda\\in\\mathbb{F}$ and $v,u\\in  V$\n",
    "- $(\\lambda+\\mu) v)=\\lambda v+\\mu v$ for all $\\lambda,\\mu\\in\\mathbb{F}$ and $v\\in  V$\n",
    "```\n",
    "\n",
    "$n$-dimensional Euclidean spaces arem the most familiar examples of vector spaces. However, there are a lot more spaces and operations that satisfy these axioms.  \n",
    "\n",
    "```{admonition} Examples (Vector space)\n",
    ":class: example\n",
    "\n",
    "- $\\mathbb{F}=\\mathbb{R}$, $V=\\mathbb{R}^n$ is a vector space over real numbers\n",
    "- $\\mathbb{F}=\\mathbb{C}$, $V=\\mathbb{C}^n$ is a vector space over complex numbers\n",
    "- the set $M_{n\\times m}(\\mathbb{R})$ of all $n\\times m$ matrices is a vector space\n",
    "\n",
    "```\n",
    "\n",
    "We will be dealing mostly with finite dimensional vector spaces in these lectures. In such a case, we can introduce the notion of a basis of a vector space. We start by defining what we mean by linearly independent vectors:\n",
    "\n",
    "```{admonition} Definition (Linearly independent vectors)\n",
    ":class: definition\n",
    "\n",
    "Let $V$ be an $n$-dimensional vector space and let $v_1,v_2,\\ldots,v_k\\in V$ be vectors. Then we say that these vectors are linearly independent if the vector equation\n",
    "\n",
    "$$\n",
    "\\alpha_1 v_1+\\alpha_2 v_2+\\ldots \\alpha_k v_k=0\n",
    "$$\n",
    "\n",
    "has only the trivial solution $\\alpha_1=\\alpha_2=\\ldots=\\alpha_k=0$.\n",
    "```\n",
    "\n",
    "```{admonition} Example (Linearly independent vectors)\n",
    ":class: example\n",
    "\n",
    "Let us take $V=\\mathbb{R}^2$ and take three vectors $v_1=\\begin{pmatrix}2\\\\3\\end{pmatrix}$, $v_2=\\begin{pmatrix}-1\\\\1\\end{pmatrix}$ and $v_3=\\begin{pmatrix}2\\\\-2\\end{pmatrix}$. One can show that vectors $v_1$ and $v_2$ are linearly independent since\n",
    "\n",
    "$$\n",
    "\\alpha_1 v_1+\\alpha_2 v_2=\\alpha_1 \\begin{pmatrix}2\\\\3\\end{pmatrix}+\\alpha_2 \\begin{pmatrix}-1\\\\1\\end{pmatrix}=\\begin{pmatrix}2 \\alpha_1-\\alpha_2\\\\3\\alpha_1+\\alpha_2\\end{pmatrix}\n",
    "$$\n",
    "\n",
    "and to have $\\alpha_1 v_1+\\alpha_2 v_2=0$ we need to solve two equations:\n",
    "\n",
    "$$\n",
    "2 \\alpha_1-\\alpha_2=0,\\qquad 3\\alpha_1+\\alpha_2=0\n",
    "$$\n",
    "\n",
    "The only solution is $\\alpha_1=\\alpha_2=0$.\n",
    "\n",
    "On the other hand, vectors $v_2$ and $v_3$ are not linearly independent (therefore they are linearly dependent), since for example $v_2+v_3=0$.\n",
    "```\n",
    "\n",
    "Finally, we can define a basis of a vector space as\n",
    "\n",
    "```{admonition} Definition (Basis of vector space)\n",
    ":class: definition\n",
    "\n",
    "Let $V$ be an $n$-dimensional vector space. Any set of $n$ linearly independent vectors $v_1,v_2,\\ldots , v_n$ in $V$ is called the basis of $V$.\n",
    "```\n",
    "\n",
    "Importantly, given a basis $v_1,v_2,\\ldots,v_n$ of a vector space $V$, it is possible to expand any other vector $v\\in V$ as a linear combination of these basis vectors. Such linear combination is unique.\n",
    "\n",
    "```{admonition} Example (Basis of vector space)\n",
    ":class: example\n",
    "\n",
    "Let us take $V=\\mathbb{R}^2$. We showed that the vectors $v_1=\\begin{pmatrix}2\\\\3\\end{pmatrix}$ and $v_2=\\begin{pmatrix}-1\\\\1\\end{pmatrix}$ are linearly independent. Therefore, $v_1$ and $v_2$ form a basis of $\\mathbb{R}^2$. Any other vector in $\\mathbb{R}^2$ can be written as a linear combination of these two vectors. For example, let us take $v=\\begin{pmatrix}5\\\\7\\end{pmatrix}$. Then\n",
    "\n",
    "$$\n",
    "v=\\frac{12}{5}v_1-\\frac{1}{5}v_2\n",
    "$$\n",
    "\n",
    "```\n",
    "\n",
    "## Linear subspaces\n",
    "\n",
    "When discussing representation theory, we will often consider a vector space of some dimension $n$, and will be interested in its linear subspaces. If $V$ is a vector space over a field $K$ and if $W$ is a subset of $V$, then $W$ is a *linear subspace* of $V$ if under the operations of $V$, $W$ is a vector space over $K$. This can be illustrated by the following example\n",
    "\n",
    "```{admonition} Example (Linear subspace)\n",
    ":class: example\n",
    "\n",
    "Let $V=\\mathbb{R}^2$, and let us define a subset of $V$: $W=\\{(x,y)\\in \\mathbb{R}^2:-3x+2y=0\\}$. Then $W$ is a vector space and therefore a linear subspace of $V$. Since the elements of $W$ are just the 2-dimensional vectors, then the axioms of vector spaces are easily satisfied. The only thing that we need to check is whether $W$ is closed under vector addition and multiplication by a scalar. Let us first notice that all element of $W$ can be written as \n",
    "\n",
    "$$\n",
    "W=\\{(x,\\frac{3}{2}x):x\\in \\mathbb{R}\\}\n",
    "$$\n",
    "\n",
    "We start by checking that $W$ is closed under vector addition. Let us take $w_1,w_2\\in W$. Then we can write them as $w_1=(x_1,\\frac{3}{2}x_1)$ and $w_2=(x_2,\\frac{3}{2}x_2)$ for some $x_1,x_2\\in \\mathbb{R}$. Then\n",
    "\n",
    "$$\n",
    "w_1+w_2=(x_1,\\frac{3}{2}x_1)+(x_2,\\frac{3}{2}x_2)=(x_1+x_2,\\frac{3}{2}(x_1+x_2))=(x_3,\\frac{3}{2}x_3)\n",
    "$$\n",
    "\n",
    "for $x_3=x_1+x_2$. Therefore $w_1+w_2\\in W$.\n",
    "\n",
    "Similarly, we can check that $W$ is closed under the multiplication by a scalar. Let us take $w\\in W$ and $\\lambda\\in \\mathbb{R}$. Then $w=(x,\\frac{3}{2}x)$ for some $x\\in\\mathbb{R}$ and\n",
    "\n",
    "$$\n",
    "\\lambda w=\\lambda (x,\\frac{3}{2}x)=(\\lambda x,\\frac{3}{2}\\lambda x)=(x' ,\\frac{3}{2}x')\n",
    "$$\n",
    "\n",
    "for $x'=\\lambda x\\in \\mathbb{R}$. Therefore, $\\lambda w\\in W$.\n",
    "\n",
    "It is find a basis of $W$. Since $\\dim(W)=1$ then it is sufficient to find a single linearly independent vector. As an example we can take $w=(2,3)$. \n",
    "\n",
    "Moreover, the linear subspace $W$ can be easily visualized on a real plane (that is $\\mathbb{R}^2$). It is just the straight line in the picture below\n",
    "\n",
    "```"
   ]
  },
  {
   "cell_type": "code",
   "execution_count": 2,
   "metadata": {},
   "outputs": [
    {
     "data": {
      "image/png": "[encoded data removed]",
      "text/plain": [
       "<Figure size 432x288 with 1 Axes>"
      ]
     },
     "metadata": {
      "filenames": {
       "image/png": "/Users/tomaszlukowski/Documents/Groups-and-representations-lecture-notes/_build/jupyter_execute/Lectures/Lecture1_2_0.png"
      },
      "needs_background": "light"
     },
     "output_type": "display_data"
    }
   ],
   "source": [
    "import matplotlib.pyplot as plt\n",
    "import numpy as np\n",
    "\n",
    "\n",
    "# 1st line\n",
    "point_1 = [4,6]\n",
    "point_2 = [-4,-6]\n",
    "\n",
    "\n",
    "ax = plt.gca()\n",
    "ax.set_aspect('equal', 'box')\n",
    "ax.grid()\n",
    "ax.set_xlim(-7,7)\n",
    "ax.set_ylim(-7,7)\n",
    "\n",
    "x_values = [[point_1[0]],[point_2[0]]]\n",
    "y_values = [[point_1[1]],[point_2[1]]]\n",
    "\n",
    "plt.plot(x_values, y_values, 'red')\n",
    "plt.show()"
   ]
  },
  {
   "cell_type": "markdown",
   "metadata": {},
   "source": [
    "## Linear maps\n",
    "\n",
    "```{admonition} Definition (Linear map)\n",
    ":class: definition\n",
    "\n",
    "Let $U$ and $V$ be vector spaces over $\\mathbb{F}$. Then $f:U\\to V$ is called a linear map if\n",
    "- $f(u+v)=f(u)+f(v)$ for all $u,v\\in U$\n",
    "- $f(\\lambda u)=\\lambda f(u)$ for all $\\lambda\\in \\mathbb{F}$ and $u\\in U$\n",
    "\n",
    "```\n",
    "\n",
    "```{admonition} Examples (Linear map)\n",
    ":class: example\n",
    "\n",
    "- The identity map $id_U:U\\to U$ is a linear map\n",
    "- For an $n\\times m$ real matrix $A$, we can define a map: $T_A:\\mathbb{R}^n\\to\\mathbb{R}^m$ as $T_A(v)=A\\cdot v$. Then $T_A$ is a linear map.\n",
    "\n",
    "```"
   ]
  }
 ],
 "metadata": {
  "celltoolbar": "Edit Metadata",
  "kernelspec": {
   "display_name": "Python 3 (ipykernel)",
   "language": "python",
   "name": "python3"
  },
  "language_info": {
   "codemirror_mode": {
    "name": "ipython",
    "version": 3
   },
   "file_extension": ".py",
   "mimetype": "text/x-python",
   "name": "python",
   "nbconvert_exporter": "python",
   "pygments_lexer": "ipython3",
   "version": "3.9.7"
  },
  "widgets": {
   "application/vnd.jupyter.widget-state+json": {
    "state": {},
    "version_major": 2,
    "version_minor": 0
   }
  }
 },
 "nbformat": 4,
 "nbformat_minor": 4
}