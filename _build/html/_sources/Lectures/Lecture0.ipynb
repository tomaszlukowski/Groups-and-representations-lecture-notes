{
 "cells": [
  {
   "cell_type": "code",
   "execution_count": 42,
   "metadata": {
    "tags": [
     "hide-input"
    ]
   },
   "outputs": [
    {
     "data": {
      "text/html": [
       " <style>\n",
       ".output_png {\n",
       "    display: table-cell;\n",
       "    text-align: center;\n",
       "    vertical-align: middle;\n",
       "}\n",
       "</style> "
      ],
      "text/plain": [
       "<IPython.core.display.HTML object>"
      ]
     },
     "execution_count": 42,
     "metadata": {},
     "output_type": "execute_result"
    }
   ],
   "source": [
    "from IPython.core.display import HTML as Center\n",
    "\n",
    "Center(\"\"\" <style>\n",
    ".output_png {\n",
    "    display: table-cell;\n",
    "    text-align: center;\n",
    "    vertical-align: middle;\n",
    "}\n",
    "</style> \"\"\")"
   ]
  },
  {
   "cell_type": "markdown",
   "metadata": {},
   "source": [
    "# Introduction\n",
    "\n",
    "## Symmetries\n",
    "\n",
    "**Symmetries** provide one of the key ideas in modern mathematics and physics. They are naturally associated with the notion of **groups**. A typical problem in this context is to construct a system that behaves in a certain way under the action of a symmetry, for example, a system that is invariant under a given symmetry. \n",
    "\n",
    "To tackle this kind of problems, we need to know how the symmetries act on the building blocks of systems and these blocks are often the elements of vector spaces, i.e. vectors. This leads to a natural question of how to classify such actions of groups on vector spaces. The mathematical theory that deals with this question is the **representation theory**.\n",
    "\n",
    "$$\n",
    "\\begin{array}{cc}\n",
    "\\mathrm{Physics}&&\\mathrm{Mathematics}\\\\\n",
    "\\mathrm{symmetry}&\\leftrightarrow&\\mathrm{group}\n",
    "\\end{array}\n",
    "$$\n",
    "\n",
    "Many systems in classical and quantum physics are invariant under some symmetry operations. We distinguish two types of symmetries: **discrete** and **continuous** symmetries. \n",
    "\n",
    "In the first cathegory we have for example\n",
    "* reflection (parity) symmetry\n",
    "* discrete rotations\n",
    "* time reversal\n",
    "* CPT symmetry of the Standard Model\n",
    "\n",
    "Continuous symmetries include:\n",
    "* time translations\n",
    "* space translations\n",
    "* spatial rotations\n",
    "* Poincare transformations\n",
    "* gauge symmetries of quuntum field theories\n",
    "\n",
    "Each symmetry can be described mathematically using groups and their representations.\n",
    "\n",
    "## First look at groups and representations\n",
    "\n",
    "Consider the following square in 2D space:"
   ]
  },
  {
   "cell_type": "code",
   "execution_count": 77,
   "metadata": {
    "tags": [
     "hide-input"
    ]
   },
   "outputs": [
    {
     "data": {
      "image/png": "[encoded data removed]",
      "text/plain": [
       "<Figure size 432x288 with 1 Axes>"
      ]
     },
     "metadata": {
      "needs_background": "light"
     },
     "output_type": "display_data"
    }
   ],
   "source": [
    "import matplotlib.pyplot as plt\n",
    "import numpy as np\n",
    "from matplotlib.patches import Polygon\n",
    "\n",
    "pts = np.array([[0,1], [1,0], [0,-1],[-1,0]])\n",
    "p = Polygon(pts, closed=True)\n",
    "ax = plt.gca()\n",
    "ax.set_aspect('equal', 'box')\n",
    "ax.grid()\n",
    "ax.add_patch(p)\n",
    "ax.set_xlim(-1.5,1.5)\n",
    "ax.set_ylim(-1.5,1.5)\n",
    "ax.set_xlabel('x')\n",
    "ax.set_ylabel('y')\n",
    "ax.annotate(\"$x_2=(0,1)$\", xy=(0, 1), xytext=(0.25, 1.25),\n",
    "            arrowprops=dict(arrowstyle=\"->\"))\n",
    "ax.annotate(\"$x_1=(1,0)$\", xy=(1,0), xytext=(1.25, 0.25),\n",
    "            arrowprops=dict(arrowstyle=\"->\"))\n",
    "ax.annotate(\"$x_3=(-1,0)$\", xy=(-1,0), xytext=(-1.5, -0.5),\n",
    "            arrowprops=dict(arrowstyle=\"->\"))\n",
    "ax.annotate(\"$x_4=(0,-1)$\", xy=(0,-1), xytext=(0.25, -1.25),\n",
    "            arrowprops=dict(arrowstyle=\"->\"))\n",
    "plt.show()\n"
   ]
  },
  {
   "cell_type": "markdown",
   "metadata": {},
   "source": [
    "It is symmetric under rotations and reflections. For example: the rotation by $90^\\circ$ clockwise does not change the shape of the square. However, it **permutes** its vertices in the following way:\n",
    "\n",
    "$$x_1\\to x_4\\to x_3 \\to x_2 \\to x_1$$\n",
    "\n",
    "We associate a *permutation* to this symmetry: $(1432)$.\n",
    "\n",
    "Another example: lreflection with respect to the $x$-axis. It permutes vertices:\n",
    "\n",
    "$$x_2 \\to x_4 \\to x_2,$$\n",
    "\n",
    "and $x_1$ and $x_3$ are unchanged.\n",
    "We associate another permutation to this symmetry: $(1)(3)(24)=(24)$.\n",
    "\n",
    "There are 8 such symmetries in total (four rotations and four reflections):\n",
    "* $e_1=id$ - identity\n",
    "* $e_2=(1432)$ - rotation by $90^\\circ$ clockwise\n",
    "* $e_3=(13)(24)$ - rotation by $180^\\circ$ clockwise\n",
    "* $e_4=(1234)$ - rotation by $270^\\circ$ clockwise\n",
    "* $e_5=(24)$ - $x$-axis reflection \n",
    "* $e_6=(13)$ - $y$-axis reflection\n",
    "* $e_7=(14)(23)$ - reflection with respect to the top-left to bottom-right diagonal\n",
    "* $e_8=(12)(34)$ - reflection with respect to the top-right to bottom-left diagonal\n",
    "\n",
    "Two symmetries applied one after another is also a symmetry: $e_2$ followed by $e_2$ is $e_3$. We indicate it as \n",
    "\n",
    "$$e_2 \\star e_2 =e_3$$\n",
    "\n",
    "where $\\star$ is a multiplication of group elements (binary operation). This can be done using vertex permutations:\n",
    "\n",
    "$$(1432)\\circ(1432) =(13)(24)$$\n",
    "\n",
    "where we used the symbol $\\circ$ to indicate multiplication (composition) of permutations.\n",
    "\n",
    "One can construct a table collecting all results of multiplications of two symmetries - **Cayley table**.\n",
    "\n",
    "This group is called the **dihedral group $D_4$**\n",
    "\n",
    "$$\n",
    "\\begin{array}{c||c|c|c|c|c|c|c|c}\n",
    "\\star&e_1&e_2&e_3&e_4&e_5&e_6&e_7&e_8\\\\\n",
    "\\hline\n",
    "\\hline\n",
    "e_1&e_1&e_2&e_3&e_4&e_5&e_6&e_7&e_8\\\\\n",
    "\\hline\n",
    "e_2&e_2&e_3&e_4&e_1&e_7&e_8&e_6&e_5\\\\\n",
    "\\hline\n",
    "e_3&e_3&e_4&e_1&e_2&e_6&e_5&e_8&e_7\\\\\n",
    "\\hline\n",
    "e_4&e_4&e_1&e_2&e_3&e_8&e_7&e_5&e_6\\\\\n",
    "\\hline\n",
    "e_5&e_5&e_8&e_6&e_7&e_1&e_3&e_4&e_2\\\\\n",
    "\\hline\n",
    "e_6&e_6&e_7&e_5&e_8&e_3&e_1&e_2&e_4\\\\\n",
    "\\hline\n",
    "e_7&e_7&e_5&e_8&e_6&e_2&e_4&e_1&e_3\\\\\n",
    "\\hline\n",
    "e_8&e_8&e_6&e_7&e_5&e_4&e_2&e_3&e_1\n",
    "\\end{array}\n",
    "$$\n",
    "\n",
    "Some important observations from this table:\n",
    "* each element appears only once in each column and in each row\n",
    "* the element $e_1$ acts as the identity element, namely\n",
    "\n",
    "$$e_1 \\star e_i=e_i\\star e_1=e_i$$\n",
    "\n",
    "* every element has its inverse, i.e. for each $e_i$ there exists $e_j$ such that\n",
    "\n",
    "$$e_i\\star e_j=e_j\\star e_i=e_1$$\n",
    "\n",
    "These are common properties for all groups.\n",
    "\n",
    "Groups are very abstract mathematical objects that are defined as a set with binary operation of its elements satisfying a series of conditions. We are interested in representing these elements in such a way that we can see how group elements act on the square. We can do it by associating $2\\times 2$ matrices to each group element:\n",
    "\n",
    "$$\n",
    "\\begin{align*}\n",
    "&e_1 \\to \\begin{pmatrix}1&0\\\\0&1\\end{pmatrix}\\qquad & e_2 \\to \\begin{pmatrix}0&1\\\\-1&0\\end{pmatrix}\\qquad\n",
    "&e_3 \\to \\begin{pmatrix}-1&0\\\\0&-1\\end{pmatrix}\\qquad & e_4 \\to \\begin{pmatrix}0&-1\\\\1&0\\end{pmatrix}\\\\\n",
    "&e_5 \\to \\begin{pmatrix}1&0\\\\0&-1\\end{pmatrix}\\qquad & e_6 \\to \\begin{pmatrix}1&0\\\\0&-1\\end{pmatrix}\\qquad\n",
    "&e_7 \\to \\begin{pmatrix}0&-1\\\\-1&0\\end{pmatrix}\\qquad & e_8 \\to \\begin{pmatrix}0&1\\\\1&0\\end{pmatrix}\\\\\n",
    "\\end{align*}\n",
    "$$\n",
    "\n",
    "These matrices satisfy the same multiplication table as the group elements. We call these set of matrices a representation of group $D_4$. This is not the only representation and we will discuss many more of them in this module."
   ]
  },
  {
   "cell_type": "code",
   "execution_count": null,
   "metadata": {},
   "outputs": [],
   "source": [
    "\n"
   ]
  }
 ],
 "metadata": {
  "celltoolbar": "Edit Metadata",
  "kernelspec": {
   "display_name": "Python 3 (ipykernel)",
   "language": "python",
   "name": "python3"
  },
  "language_info": {
   "codemirror_mode": {
    "name": "ipython",
    "version": 3
   },
   "file_extension": ".py",
   "mimetype": "text/x-python",
   "name": "python",
   "nbconvert_exporter": "python",
   "pygments_lexer": "ipython3",
   "version": "3.9.7"
  },
  "widgets": {
   "application/vnd.jupyter.widget-state+json": {
    "state": {},
    "version_major": 2,
    "version_minor": 0
   }
  }
 },
 "nbformat": 4,
 "nbformat_minor": 4
}
